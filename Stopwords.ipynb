{
  "nbformat": 4,
  "nbformat_minor": 0,
  "metadata": {
    "colab": {
      "provenance": []
    },
    "kernelspec": {
      "name": "python3",
      "display_name": "Python 3"
    },
    "language_info": {
      "name": "python"
    }
  },
  "cells": [
    {
      "cell_type": "code",
      "execution_count": 3,
      "metadata": {
        "colab": {
          "base_uri": "https://localhost:8080/"
        },
        "id": "3qJRWUcm3WB2",
        "outputId": "65ca4bf0-ec4d-491f-802b-e999c5da43b1"
      },
      "outputs": [
        {
          "output_type": "stream",
          "name": "stdout",
          "text": [
            "orginal string this is an example sentence to remove stop words from.\n",
            "Modified string examplesentenceremovestopwordsfrom.\n"
          ]
        },
        {
          "output_type": "stream",
          "name": "stderr",
          "text": [
            "[nltk_data] Downloading package stopwords to /root/nltk_data...\n",
            "[nltk_data]   Package stopwords is already up-to-date!\n"
          ]
        }
      ],
      "source": [
        "import nltk\n",
        "from nltk.corpus import stopwords\n",
        "nltk.download('stopwords')\n",
        "def remove_stop_words(string):\n",
        "    stop_words = set(stopwords.words('english'))\n",
        "    words = string.split()\n",
        "    filtered_words = [word for word in words if word.lower() not in stop_words]\n",
        "    new_string = ''.join(filtered_words)\n",
        "    return new_string\n",
        "\n",
        "input_string = \"this is an example sentence to remove stop words from.\"\n",
        "result = remove_stop_words(input_string)\n",
        "print(\"orginal string\",input_string)\n",
        "print(\"Modified string\",result)"
      ]
    },
    {
      "cell_type": "code",
      "source": [
        "import nltk\n",
        "from nltk.corpus import stopwords\n",
        "nltk.download('stopwords')\n",
        "\n",
        "def count_stop_words(string):\n",
        "    stop_words = set(stopwords.words('english'))\n",
        "    words = string.split()\n",
        "    count = sum(1 for word in words if word.lower() in stop_words)\n",
        "    return count\n",
        "\n",
        "input_string = \"this is an example sentence to remove stop words from.\"\n",
        "result = count_stop_words(input_string)\n",
        "print(\"Original string:\", input_string)\n",
        "print(\"Number of stopwords:\", result)\n"
      ],
      "metadata": {
        "colab": {
          "base_uri": "https://localhost:8080/"
        },
        "id": "d8ECVBuZ8USa",
        "outputId": "fb10f816-8546-472f-f09c-696a23554ac1"
      },
      "execution_count": 9,
      "outputs": [
        {
          "output_type": "stream",
          "name": "stdout",
          "text": [
            "Original string: this is an example sentence to remove stop words from.\n",
            "Number of stopwords: 4\n"
          ]
        },
        {
          "output_type": "stream",
          "name": "stderr",
          "text": [
            "[nltk_data] Downloading package stopwords to /root/nltk_data...\n",
            "[nltk_data]   Package stopwords is already up-to-date!\n"
          ]
        }
      ]
    },
    {
      "cell_type": "code",
      "source": [
        "import nltk\n",
        "from nltk.corpus import stopwords\n",
        "import matplotlib.pyplot as plt\n",
        "nltk.download('stopwords')\n",
        "\n",
        "def count_stop_words(string):\n",
        "    stop_words = set(stopwords.words('english'))\n",
        "    words = string.split()\n",
        "    count_dict = {}\n",
        "    for word in words:\n",
        "        if word.lower() in stop_words:\n",
        "            count_dict[word.lower()] = count_dict.get(word.lower(), 0) + 1\n",
        "    return count_dict\n",
        "\n",
        "input_string = \"this is an example an sentence to count to stop to words from.\"\n",
        "result = count_stop_words(input_string)\n",
        "\n",
        "# Plotting the graph\n",
        "plt.bar(result.keys(), result.values())\n",
        "plt.xlabel('Stopwords')\n",
        "plt.ylabel('Count')\n",
        "plt.title('Count of Stopwords in Input String')\n",
        "plt.show()\n"
      ],
      "metadata": {
        "colab": {
          "base_uri": "https://localhost:8080/",
          "height": 507
        },
        "id": "ZSHcBymC_3Tb",
        "outputId": "3ae68131-94f6-4066-8d08-7ca019e2d110"
      },
      "execution_count": 10,
      "outputs": [
        {
          "output_type": "stream",
          "name": "stderr",
          "text": [
            "[nltk_data] Downloading package stopwords to /root/nltk_data...\n",
            "[nltk_data]   Package stopwords is already up-to-date!\n"
          ]
        },
        {
          "output_type": "display_data",
          "data": {
            "text/plain": [
              "<Figure size 640x480 with 1 Axes>"
            ],
            "image/png": "[encoded data removed]"
          },
          "metadata": {}
        }
      ]
    }
  ]
}